{
  "nbformat": 4,
  "nbformat_minor": 0,
  "metadata": {
    "colab": {
      "name": "Untitled1.ipynb",
      "provenance": [],
      "collapsed_sections": [],
      "authorship_tag": "ABX9TyMkKdtscWUpBufd8uXAeecn",
      "include_colab_link": true
    },
    "kernelspec": {
      "name": "python3",
      "display_name": "Python 3"
    }
  },
  "cells": [
    {
      "cell_type": "markdown",
      "metadata": {
        "id": "view-in-github",
        "colab_type": "text"
      },
      "source": [
        "<a href=\"https://colab.research.google.com/github/YuryDelkov/py_work/blob/master/ans.ipynb\" target=\"_parent\"><img src=\"https://colab.research.google.com/assets/colab-badge.svg\" alt=\"Open In Colab\"/></a>"
      ]
    },
    {
      "cell_type": "code",
      "metadata": {
        "id": "E1ojcmDH11-J",
        "colab_type": "code",
        "outputId": "8e866926-4e22-4d54-aaf3-f119129cbdf8",
        "colab": {
          "base_uri": "https://localhost:8080/",
          "height": 68
        }
      },
      "source": [
        "# Задание №3\n",
        "\n",
        "r = int(input('Введите длину ребра куба - '))\n",
        "S = 4 * a ** 2\n",
        "V = a ** 3\n",
        "print('Площадь боковой поверхности куба = {0}\\nОбъем куба = {1}'.format(S, V))"
      ],
      "execution_count": 0,
      "outputs": [
        {
          "output_type": "stream",
          "text": [
            "Введите длину ребра куба - 3\n",
            "Площадь боковой поверхности куба = 36\n",
            "Объем куба = 27\n"
          ],
          "name": "stdout"
        }
      ]
    },
    {
      "cell_type": "code",
      "metadata": {
        "colab_type": "code",
        "id": "dtg0Q0rN1Ctv",
        "outputId": "3010ed33-f8a6-4907-a995-f8b9512b7d40",
        "colab": {
          "base_uri": "https://localhost:8080/",
          "height": 68
        }
      },
      "source": [
        "# Задание №59(б)\n",
        "\n",
        "x = float(input('Введите x - '))\n",
        "y = float(input('Введите y - '))\n",
        "\n",
        "if x**2 + y**2 <= 1 and x**2 + y**2 >= 0.5:\n",
        "  print('Точка с координатами (' + str(x) + ':' + str(y) + ') принадлежит плоскости')\n",
        "else: print('Точка с координатами (' + str(x) + ':' + str(y) + ') не принадлежит плоскости')"
      ],
      "execution_count": 0,
      "outputs": [
        {
          "output_type": "stream",
          "text": [
            "Введите x - -0.5\n",
            "Введите y - 0.6\n",
            "Точка с координатами (-0.5:0.6) принадлежит плоскости\n"
          ],
          "name": "stdout"
        }
      ]
    },
    {
      "cell_type": "code",
      "metadata": {
        "id": "Mk0sDKR3vbI2",
        "colab_type": "code",
        "outputId": "aaeae28d-d38e-44df-b001-e9bd591bd1b3",
        "colab": {
          "base_uri": "https://localhost:8080/",
          "height": 51
        }
      },
      "source": [
        "# Задание №62\n",
        "\n",
        "t = int(input('Введите целое число - '))\n",
        "if (n%2 == 0): print('Число {} четное'.format(t))\n",
        "else: print('Число {} нечетное'.format(t))"
      ],
      "execution_count": 0,
      "outputs": [
        {
          "output_type": "stream",
          "text": [
            "Введите целое число - 121\n",
            "Число 121 нечетное\n"
          ],
          "name": "stdout"
        }
      ]
    },
    {
      "cell_type": "code",
      "metadata": {
        "id": "NljAtn1sxN8o",
        "colab_type": "code",
        "outputId": "5ae02c53-b5a8-449c-c567-544f2ce03e8b",
        "colab": {
          "base_uri": "https://localhost:8080/",
          "height": 85
        }
      },
      "source": [
        "# Задание №78(а)\n",
        "\n",
        "a = float(input('Введите любое число а = '))\n",
        "while True:\n",
        "  n = int(input('Введите любое натуральноче число n = '))\n",
        "  if n > 0: break\n",
        "  else: print('{} не является натуральным числом!!!'.format(n))\n",
        "print('а^n = ', a**n)"
      ],
      "execution_count": 0,
      "outputs": [
        {
          "output_type": "stream",
          "text": [
            "Введите любое число а - 10\n",
            "Введите любое натуральноче число n - -2\n",
            "Введите любое натуральноче число n - 2\n",
            "а в степени n =  100.0\n"
          ],
          "name": "stdout"
        }
      ]
    },
    {
      "cell_type": "code",
      "metadata": {
        "id": "EV84GZfdYjqP",
        "colab_type": "code",
        "colab": {
          "base_uri": "https://localhost:8080/",
          "height": 252
        },
        "outputId": "547fa067-3fc2-49a2-aa63-886ccfb42ac4"
      },
      "source": [
        "# 120\n",
        "\n",
        "import pylab\n",
        "import matplotlib\n",
        "\n",
        "pylab.xlim(0, 20)\n",
        "pylab.ylim(0, 10)\n",
        "formatter = matplotlib.ticker.NullFormatter()\n",
        "axes = pylab.gca()\n",
        "axes.xaxis.set_major_formatter(formatter)\n",
        "axes.yaxis.set_major_formatter(formatter)\n",
        "\n",
        "polygon = pylab.Polygon([(1, 1), (3, 3), (5, 1)], color='red') # Треугольник\n",
        "axes.add_patch(polygon)\n",
        "\n",
        "polygon = pylab.Polygon([(1, 4), (1, 8), (6, 8), (6, 4)], color='blue') # Квадрат\n",
        "axes.add_patch(polygon)\n",
        "\n",
        "polygon = pylab.Polygon([(10, 1), (12, 3), (15, 3), (16, 4), (17, 1)], color='orange') # Шестиугольник\n",
        "axes.add_patch(polygon)\n",
        "\n",
        "polygon = pylab.Polygon([(8, 6), (10, 8), (16, 8), (18, 6), (13, 4)], color='cyan') # Пятиугольник\n",
        "axes.add_patch(polygon)\n",
        "\n",
        "pylab.show()"
      ],
      "execution_count": 66,
      "outputs": [
        {
          "output_type": "display_data",
          "data": {
            "image/png": "[encoded data removed]",
            "text/plain": [
              "<Figure size 432x288 with 1 Axes>"
            ]
          },
          "metadata": {
            "tags": []
          }
        }
      ]
    },
    {
      "cell_type": "code",
      "metadata": {
        "id": "SeGCqiGxdhpZ",
        "colab_type": "code",
        "colab": {
          "base_uri": "https://localhost:8080/",
          "height": 269
        },
        "outputId": "c8d90471-f51b-4120-a01a-43e44c5b3e6c"
      },
      "source": [
        "# 173\n",
        "\n",
        "import pylab\n",
        "from random import *\n",
        "\n",
        "n = 20\n",
        "mas = list(range(1, 4*n))\n",
        "\n",
        "pylab.xlim(0, 100)\n",
        "pylab.ylim(0, 100)\n",
        "axes = pylab.gca()\n",
        "\n",
        "for i in range(0, 4*n-1):\n",
        "    if mas[i] % 4 == 0:\n",
        "        colors = choice(['aqua', 'blue', 'fuchsia', 'green', 'maroon', 'orange', 'pink', \n",
        "         'purple', 'red','yellow', 'violet', 'indigo', 'chartreuse', 'lime'])\n",
        "        x = mas[i]-mas[i+2]/2\n",
        "        y = mas[i+1]-mas[i+3]/2\n",
        "        rect = pylab.Rectangle((x, y), mas[i+2], mas[i+3], color=colors)\n",
        "        axes.add_patch(rect)\n",
        "\n",
        "pylab.show()"
      ],
      "execution_count": 60,
      "outputs": [
        {
          "output_type": "display_data",
          "data": {
            "image/png": "[encoded data removed]",
            "text/plain": [
              "<Figure size 432x288 with 1 Axes>"
            ]
          },
          "metadata": {
            "tags": []
          }
        }
      ]
    },
    {
      "cell_type": "code",
      "metadata": {
        "id": "h1y0IGB1HQfL",
        "colab_type": "code",
        "outputId": "74cf0228-d996-4fac-f395-0a93765b6eca",
        "colab": {
          "base_uri": "https://localhost:8080/",
          "height": 496
        }
      },
      "source": [
        "# Задание №124\n",
        "\n",
        "import matplotlib.pyplot as plt\n",
        "import random\n",
        "\n",
        "a = ['a1', 'a2', 'a3', 'a4', 'a5', 'a6', 'a7']\n",
        "arr = []\n",
        "\n",
        "fig = plt.figure()\n",
        "for i in range(0, 7):\n",
        "  arr.append(random.randrange(0, 20))\n",
        "  plt.bar(a[i], arr[i])\n",
        "\n",
        "fig = plt.figure()\n",
        "plt.pie(arr, labels=a)\n",
        "\n",
        "plt.show()"
      ],
      "execution_count": 0,
      "outputs": [
        {
          "output_type": "display_data",
          "data": {
            "image/png": "[encoded data removed]",
            "text/plain": [
              "<Figure size 432x288 with 1 Axes>"
            ]
          },
          "metadata": {
            "tags": []
          }
        },
        {
          "output_type": "display_data",
          "data": {
            "image/png": "[encoded data removed]",
            "text/plain": [
              "<Figure size 432x288 with 1 Axes>"
            ]
          },
          "metadata": {
            "tags": []
          }
        }
      ]
    },
    {
      "cell_type": "code",
      "metadata": {
        "id": "P6I0dr2SXF3q",
        "colab_type": "code",
        "outputId": "3ff96908-01e6-4fac-a546-81003783de0b",
        "colab": {
          "base_uri": "https://localhost:8080/",
          "height": 51
        }
      },
      "source": [
        "# Задание №139(б)\n",
        "\n",
        "while True:\n",
        "  n = int(input('Введите любое натуральноче число n = '))\n",
        "  if n > 0: break\n",
        "  else: print('{} не является натуральным числом!!!'.format(n))\n",
        "\n",
        "for i in range(1, n+1):\n",
        "  print('b{0}={1}'.format(i, i**2), end='; ')"
      ],
      "execution_count": 0,
      "outputs": [
        {
          "output_type": "stream",
          "text": [
            "Введите любое натуральноче число n = 10\n",
            "b1=1; b2=4; b3=9; b4=16; b5=25; b6=36; b7=49; b8=64; b9=81; b10=100; "
          ],
          "name": "stdout"
        }
      ]
    },
    {
      "cell_type": "code",
      "metadata": {
        "id": "nv0GK51kZUkB",
        "colab_type": "code",
        "outputId": "6320a6f7-a4c1-4f7f-94ee-126f64965246",
        "colab": {
          "base_uri": "https://localhost:8080/",
          "height": 88
        }
      },
      "source": [
        "# Задание №178(в) \n",
        "\n",
        "import random\n",
        "import math\n",
        "\n",
        "n = random.randint(1, 100)\n",
        "num = list(range(1, n+1))\n",
        "kvad = list()\n",
        "\n",
        "for i in num:\n",
        "  if math.sqrt(i) % 2 == 0:\n",
        "    kvad.append(i)\n",
        "\n",
        "kol = len(kvad)\n",
        "if kol > 1 and kol < 5: print('В последовательности: \\n{0}\\nСодержится {1} элемента являющихся квадратами четных чисел: {2}'.format(num, len(kvad), kvad))\n",
        "elif kol > 4: print('В последовательности: {0}\\nСодержится {1} элементов являющихся квадратами четных чисел: {2}'.format(num, len(kvad), kvad))\n",
        "elif kol > 0 and kol < 2: print('В последовательности: {0}\\nСодержится {1} элемент являющийся квадратом четных чисел: {2}'.format(num, len(kvad), kvad))\n",
        "else: print('В последовательности ' + str(num) + ' нет элментов являющихся квадратами четных чисел')"
      ],
      "execution_count": 0,
      "outputs": [
        {
          "output_type": "stream",
          "text": [
            "В последовательности: \n",
            "[1, 2, 3, 4, 5, 6, 7, 8, 9, 10, 11, 12, 13, 14, 15, 16, 17, 18, 19, 20, 21, 22, 23, 24, 25, 26, 27, 28, 29, 30, 31, 32, 33, 34, 35, 36, 37, 38, 39, 40, 41, 42, 43, 44, 45, 46, 47, 48, 49, 50, 51, 52, 53, 54, 55, 56, 57, 58, 59, 60, 61, 62, 63, 64, 65, 66, 67, 68, 69, 70, 71, 72, 73, 74, 75, 76, 77, 78, 79, 80, 81, 82, 83, 84, 85, 86]\n",
            "Содержится 4 элемента являющихся квадратами четных чисел: [4, 16, 36, 64]\n"
          ],
          "name": "stdout"
        }
      ]
    },
    {
      "cell_type": "code",
      "metadata": {
        "id": "gGrf-v75iLg8",
        "colab_type": "code",
        "outputId": "e361e2e8-b177-4bdd-fcf0-48403a6b8cbd",
        "colab": {
          "base_uri": "https://localhost:8080/",
          "height": 51
        }
      },
      "source": [
        "# Задание №207\n",
        "\n",
        "while True:\n",
        "  n = int(input('Введите любое натуральноче число n = '))\n",
        "  if n > 0: break\n",
        "  else: print('{} не является натуральным числом!!!'.format(n))\n",
        "\n",
        "p = ''\n",
        "for i in str(n):\n",
        "  if i != '0' and i != '5':\n",
        "    p += i\n",
        "print(p)"
      ],
      "execution_count": 0,
      "outputs": [
        {
          "output_type": "stream",
          "text": [
            "Введите любое натуральноче число n = 59015509\n",
            "919\n"
          ],
          "name": "stdout"
        }
      ]
    },
    {
      "cell_type": "code",
      "metadata": {
        "id": "7a_TlDVPjswy",
        "colab_type": "code",
        "outputId": "79542ff5-3313-4a91-d1dc-c1db04a54961",
        "colab": {
          "base_uri": "https://localhost:8080/",
          "height": 34
        }
      },
      "source": [
        "# Задание №257(б)\n",
        "\n",
        "sim = ['а', 'п', '!', 'р', 'а', 'в', 'ю', 'п']\n",
        "n = 5\n",
        "\n",
        "sim1 = list()\n",
        "for i in range(n, 0, -1):\n",
        "  sim1.append(sim[len(sim) - i])\n",
        "for i in sim1:\n",
        "  if i == 'ю': \n",
        "    print('Буква ю входи в последовательность ', sim1)\n",
        "    break\n",
        "else: print('Буквы ю не входит в последовательности ', str(sim1))"
      ],
      "execution_count": 0,
      "outputs": [
        {
          "output_type": "stream",
          "text": [
            "Буква ю входи в последовательность  ['р', 'а', 'в', 'ю', 'п']\n"
          ],
          "name": "stdout"
        }
      ]
    },
    {
      "cell_type": "code",
      "metadata": {
        "id": "a8T8UjRYdz1B",
        "colab_type": "code",
        "outputId": "5b340ba7-20d9-43b0-829c-06d9fc099cc4",
        "colab": {
          "base_uri": "https://localhost:8080/",
          "height": 350
        }
      },
      "source": [
        "from datetime import datetime, timedelta\n",
        "from google.colab import output\n",
        "\n",
        "one = ['     *', '     *', '     *', '     *', '     *', '     *', '     *']\n",
        "two = ['******', '     *', '     *', '******', '*    ', '*     ', '******']\n",
        "three = ['******', '     *', '     *', '******', '     *', '     *', '******']\n",
        "four = ['*    *', '*    *', '*    *', '******', '     *', '     *', '     *']\n",
        "five = ['******', '*     ', '*     ', '******', '     *', '     *', '******']\n",
        "six = ['******', '*     ', '*     ', '******', '*    *', '*    *', '******']\n",
        "seven = ['******', '     *', '     *', '     *', '     *', '     *', '     *']\n",
        "eight = ['******', '*    *', '*    *', '******', '*    *', '*    *', '******']\n",
        "nine = ['******', '*    *', '*    *', '******', '     *', '     *', '******']\n",
        "zero = ['******', '*    *', '*    *', '*    *', '*    *', '*    *', '******']\n",
        "\n",
        "time1 = datetime.now()\n",
        "while True:\n",
        "  time = datetime.now().time()\n",
        "  if (time1 + timedelta(seconds=2)).time() < time:\n",
        "    output.clear()\n",
        "    time1 = datetime.now()\n",
        "    d = []\n",
        "    for i in str(time):\n",
        "      if i == '0': d.append(zero)\n",
        "      if i == '1': d.append(one)\n",
        "      if i == '2': d.append(two)\n",
        "      if i == '3': d.append(three)\n",
        "      if i == '4': d.append(four)\n",
        "      if i == '5': d.append(five)\n",
        "      if i == '6': d.append(six)\n",
        "      if i == '7': d.append(seven)\n",
        "      if i == '8': d.append(eight)\n",
        "      if i == '9': d.append(nine)\n",
        "\n",
        "    for i in range(7):\n",
        "      if i != 2 and i != 4:\n",
        "        print(d[0][i] + '   ' + d[1][i] + '         ' + d[2][i] + '   ' + d[3][i] + '         ' + d[4][i] + '   ' + d[5][i])\n",
        "      else: print(d[0][i] + '   ' + d[1][i] + '    *    ' + d[2][i] + '   ' + d[3][i] + '    *    ' + d[4][i] + '   ' + d[5][i])"
      ],
      "execution_count": 0,
      "outputs": [
        {
          "output_type": "stream",
          "text": [
            "     *   ******         ******   ******              *   *    *\n",
            "     *   *              *             *              *   *    *\n",
            "     *   *         *    *             *    *         *   *    *\n",
            "     *   ******         ******        *              *   ******\n",
            "     *        *    *         *        *    *         *        *\n",
            "     *        *              *        *              *        *\n",
            "     *   ******         ******        *              *        *\n"
          ],
          "name": "stdout"
        },
        {
          "output_type": "error",
          "ename": "KeyboardInterrupt",
          "evalue": "ignored",
          "traceback": [
            "\u001b[0;31m---------------------------------------------------------------------------\u001b[0m",
            "\u001b[0;31mKeyboardInterrupt\u001b[0m                         Traceback (most recent call last)",
            "\u001b[0;32m<ipython-input-52-4b6bd8b38950>\u001b[0m in \u001b[0;36m<module>\u001b[0;34m()\u001b[0m\n\u001b[1;32m     15\u001b[0m \u001b[0mtime1\u001b[0m \u001b[0;34m=\u001b[0m \u001b[0mdatetime\u001b[0m\u001b[0;34m.\u001b[0m\u001b[0mnow\u001b[0m\u001b[0;34m(\u001b[0m\u001b[0;34m)\u001b[0m\u001b[0;34m\u001b[0m\u001b[0;34m\u001b[0m\u001b[0m\n\u001b[1;32m     16\u001b[0m \u001b[0;32mwhile\u001b[0m \u001b[0;32mTrue\u001b[0m\u001b[0;34m:\u001b[0m\u001b[0;34m\u001b[0m\u001b[0;34m\u001b[0m\u001b[0m\n\u001b[0;32m---> 17\u001b[0;31m   \u001b[0mtime\u001b[0m \u001b[0;34m=\u001b[0m \u001b[0mdatetime\u001b[0m\u001b[0;34m.\u001b[0m\u001b[0mnow\u001b[0m\u001b[0;34m(\u001b[0m\u001b[0;34m)\u001b[0m\u001b[0;34m.\u001b[0m\u001b[0mtime\u001b[0m\u001b[0;34m(\u001b[0m\u001b[0;34m)\u001b[0m\u001b[0;34m\u001b[0m\u001b[0;34m\u001b[0m\u001b[0m\n\u001b[0m\u001b[1;32m     18\u001b[0m   \u001b[0;32mif\u001b[0m \u001b[0;34m(\u001b[0m\u001b[0mtime1\u001b[0m \u001b[0;34m+\u001b[0m \u001b[0mtimedelta\u001b[0m\u001b[0;34m(\u001b[0m\u001b[0mseconds\u001b[0m\u001b[0;34m=\u001b[0m\u001b[0;36m2\u001b[0m\u001b[0;34m)\u001b[0m\u001b[0;34m)\u001b[0m\u001b[0;34m.\u001b[0m\u001b[0mtime\u001b[0m\u001b[0;34m(\u001b[0m\u001b[0;34m)\u001b[0m \u001b[0;34m<\u001b[0m \u001b[0mtime\u001b[0m\u001b[0;34m:\u001b[0m\u001b[0;34m\u001b[0m\u001b[0;34m\u001b[0m\u001b[0m\n\u001b[1;32m     19\u001b[0m     \u001b[0moutput\u001b[0m\u001b[0;34m.\u001b[0m\u001b[0mclear\u001b[0m\u001b[0;34m(\u001b[0m\u001b[0;34m)\u001b[0m\u001b[0;34m\u001b[0m\u001b[0;34m\u001b[0m\u001b[0m\n",
            "\u001b[0;31mKeyboardInterrupt\u001b[0m: "
          ]
        }
      ]
    }
  ]
}