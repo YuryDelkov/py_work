{
  "nbformat": 4,
  "nbformat_minor": 0,
  "metadata": {
    "colab": {
      "name": "asc2.ipynb",
      "provenance": [],
      "collapsed_sections": [],
      "authorship_tag": "ABX9TyP7qJaNCy3zjccK+YaljbVh",
      "include_colab_link": true
    },
    "kernelspec": {
      "name": "python3",
      "display_name": "Python 3"
    }
  },
  "cells": [
    {
      "cell_type": "markdown",
      "metadata": {
        "id": "view-in-github",
        "colab_type": "text"
      },
      "source": [
        "<a href=\"https://colab.research.google.com/github/YuryDelkov/py_work/blob/master/asc2.ipynb\" target=\"_parent\"><img src=\"https://colab.research.google.com/assets/colab-badge.svg\" alt=\"Open In Colab\"/></a>"
      ]
    },
    {
      "cell_type": "code",
      "metadata": {
        "id": "_HmBzaDULKFh",
        "colab_type": "code",
        "outputId": "17e64f9b-af11-4f05-bda5-d8136892801f",
        "colab": {
          "base_uri": "https://localhost:8080/",
          "height": 119
        }
      },
      "source": [
        "#\n",
        "\n",
        "n = 5\n",
        "arr = []\n",
        "row = 0\n",
        "col = n % 2\n",
        "\n",
        "for i in range(n):\n",
        "  arr.append([])\n",
        "  for j in range(n):\n",
        "    arr[i].append(0)\n",
        "\n",
        "for i in range(1, n**2 + 1):\n",
        "  arr[row][col] = i\n",
        "  if i % n == 0:\n",
        "    row += 1\n",
        "  else: \n",
        "    if row == 0:\n",
        "      row = n - 1 \n",
        "    else: \n",
        "      row -= 1\n",
        "    \n",
        "    if col == n - 1:\n",
        "      col = 0\n",
        "    else:\n",
        "      col += 1\n",
        "\n",
        "for i in range(n):\n",
        "  print()\n",
        "  for j in range(n):\n",
        "    print(str(arr[i][j]).center(3), end = ' ')"
      ],
      "execution_count": 101,
      "outputs": [
        {
          "output_type": "stream",
          "text": [
            "\n",
            " 24  1   8   15  17 \n",
            " 5   7   14  16  23 \n",
            " 6   13  20  22  4  \n",
            " 12  19  21  3   10 \n",
            " 18  25  2   9   11 "
          ],
          "name": "stdout"
        }
      ]
    }
  ]
}