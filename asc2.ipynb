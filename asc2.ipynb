{
  "nbformat": 4,
  "nbformat_minor": 0,
  "metadata": {
    "colab": {
      "name": "asc2.ipynb",
      "provenance": [],
      "collapsed_sections": [],
      "authorship_tag": "ABX9TyOtjKY819/oJD9b0ePyUnPA",
      "include_colab_link": true
    },
    "kernelspec": {
      "name": "python3",
      "display_name": "Python 3"
    }
  },
  "cells": [
    {
      "cell_type": "markdown",
      "metadata": {
        "id": "view-in-github",
        "colab_type": "text"
      },
      "source": [
        "<a href=\"https://colab.research.google.com/github/YuryDelkov/py_work/blob/master/asc2.ipynb\" target=\"_parent\"><img src=\"https://colab.research.google.com/assets/colab-badge.svg\" alt=\"Open In Colab\"/></a>"
      ]
    },
    {
      "cell_type": "code",
      "metadata": {
        "id": "Ukur5jFeMU5r",
        "colab_type": "code",
        "colab": {
          "base_uri": "https://localhost:8080/",
          "height": 374
        },
        "outputId": "defae12c-debc-40e8-f28b-587906eec7de"
      },
      "source": [
        "# 368\n",
        "\n",
        "import random\n",
        "\n",
        "a = []\n",
        "b = []\n",
        "\n",
        "for i in range(10):\n",
        "  a.append(random.randint(-50, 100))\n",
        "for i in range(20):\n",
        "  b.append(random.randint(-50, 100))\n",
        "\n",
        "c = []\n",
        "for i in range(0, 20):\n",
        "  c.append([])\n",
        "  for j in range(0, 10):\n",
        "    c[i].append(a[j] / (1 + abs(b[i])))\n",
        "\n",
        "for i in range(0, 20):\n",
        "  print()\n",
        "  for j in range(0, 10):\n",
        "    print(str('{:.3f}'.format(c[i][j])).center(10), end='')"
      ],
      "execution_count": 52,
      "outputs": [
        {
          "output_type": "stream",
          "text": [
            "\n",
            "  3.000     7.000     11.500    -6.167    8.500     -4.333    8.833     16.333    -0.167    13.667  \n",
            "  0.462     1.077     1.769     -0.949    1.308     -0.667    1.359     2.513     -0.026    2.103   \n",
            "  0.409     0.955     1.568     -0.841    1.159     -0.591    1.205     2.227     -0.023    1.864   \n",
            "  0.375     0.875     1.438     -0.771    1.062     -0.542    1.104     2.042     -0.021    1.708   \n",
            "  0.391     0.913     1.500     -0.804    1.109     -0.565    1.152     2.130     -0.022    1.783   \n",
            "  0.600     1.400     2.300     -1.233    1.700     -0.867    1.767     3.267     -0.033    2.733   \n",
            "  0.240     0.560     0.920     -0.493    0.680     -0.347    0.707     1.307     -0.013    1.093   \n",
            "  0.247     0.575     0.945     -0.507    0.699     -0.356    0.726     1.342     -0.014    1.123   \n",
            "  0.217     0.506     0.831     -0.446    0.614     -0.313    0.639     1.181     -0.012    0.988   \n",
            "  0.486     1.135     1.865     -1.000    1.378     -0.703    1.432     2.649     -0.027    2.216   \n",
            "  0.409     0.955     1.568     -0.841    1.159     -0.591    1.205     2.227     -0.023    1.864   \n",
            "  1.059     2.471     4.059     -2.176    3.000     -1.529    3.118     5.765     -0.059    4.824   \n",
            "  1.200     2.800     4.600     -2.467    3.400     -1.733    3.533     6.533     -0.067    5.467   \n",
            "  0.429     1.000     1.643     -0.881    1.214     -0.619    1.262     2.333     -0.024    1.952   \n",
            "  0.947     2.211     3.632     -1.947    2.684     -1.368    2.789     5.158     -0.053    4.316   \n",
            "  0.529     1.235     2.029     -1.088    1.500     -0.765    1.559     2.882     -0.029    2.412   \n",
            "  0.643     1.500     2.464     -1.321    1.821     -0.929    1.893     3.500     -0.036    2.929   \n",
            "  2.250     5.250     8.625     -4.625    6.375     -3.250    6.625     12.250    -0.125    10.250  \n",
            "  0.243     0.568     0.932     -0.500    0.689     -0.351    0.716     1.324     -0.014    1.108   \n",
            "  0.581     1.355     2.226     -1.194    1.645     -0.839    1.710     3.161     -0.032    2.645   "
          ],
          "name": "stdout"
        }
      ]
    },
    {
      "cell_type": "code",
      "metadata": {
        "id": "MM0Kh1xoU2qx",
        "colab_type": "code",
        "colab": {
          "base_uri": "https://localhost:8080/",
          "height": 51
        },
        "outputId": "17a3af63-e8ce-4075-e2ac-e2dd23b1245e"
      },
      "source": [
        "# 832\n",
        "\n",
        "from datetime import *\n",
        "import calendar\n",
        "\n",
        "year = int(input('Введите год  - '))\n",
        "day = []\n",
        "for i in range(1, 13):\n",
        "  d = calendar.monthrange(year, i)[1]\n",
        "  \n",
        "  while calendar.day_abbr[datetime(year, i, d).date().weekday()] != 'Thu':\n",
        "    d -= 1\n",
        "  day.append(d)\n",
        "\n",
        "print('В эти дни были санитарные дни в ' + str(year) + ' году', day)"
      ],
      "execution_count": 78,
      "outputs": [
        {
          "output_type": "stream",
          "text": [
            "Введите год  - 2019\n",
            "В эти дни были санитарные дни в 2019 году [31, 28, 28, 25, 30, 27, 25, 29, 26, 31, 28, 26]\n"
          ],
          "name": "stdout"
        }
      ]
    },
    {
      "cell_type": "code",
      "metadata": {
        "id": "_HmBzaDULKFh",
        "colab_type": "code",
        "outputId": "5de7aedc-1bdf-42c7-d13a-4fb87fe8f299",
        "colab": {
          "base_uri": "https://localhost:8080/",
          "height": 119
        }
      },
      "source": [
        "# 1014\n",
        "\n",
        "n = 5\n",
        "arr = []\n",
        "row = 0\n",
        "col = n % 2\n",
        "\n",
        "for i in range(n):\n",
        "  arr.append([])\n",
        "  for j in range(n):\n",
        "    arr[i].append(0)\n",
        "\n",
        "for i in range(1, n**2 + 1):\n",
        "  arr[row][col] = i\n",
        "  if i % n == 0:\n",
        "    row += 1\n",
        "  else: \n",
        "    if row == 0:\n",
        "      row = n - 1 \n",
        "    else: \n",
        "      row -= 1\n",
        "    \n",
        "    if col == n - 1:\n",
        "      col = 0\n",
        "    else:\n",
        "      col += 1\n",
        "\n",
        "for i in range(n):\n",
        "  print()\n",
        "  for j in range(n):\n",
        "    print(str(arr[i][j]).center(5), end = '')"
      ],
      "execution_count": 55,
      "outputs": [
        {
          "output_type": "stream",
          "text": [
            "\n",
            "  24   1    8    15   17 \n",
            "  5    7    14   16   23 \n",
            "  6    13   20   22   4  \n",
            "  12   19   21   3    10 \n",
            "  18   25   2    9    11 "
          ],
          "name": "stdout"
        }
      ]
    }
  ]
}